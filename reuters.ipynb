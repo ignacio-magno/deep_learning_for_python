{
 "cells": [
  {
   "cell_type": "code",
   "execution_count": 62,
   "metadata": {
    "collapsed": true,
    "ExecuteTime": {
     "end_time": "2023-06-26T17:52:48.758427500Z",
     "start_time": "2023-06-26T17:52:48.643424600Z"
    }
   },
   "outputs": [],
   "source": [
    "from keras.datasets import reuters"
   ]
  },
  {
   "cell_type": "code",
   "execution_count": 63,
   "outputs": [
    {
     "data": {
      "text/plain": "(8982,)"
     },
     "execution_count": 63,
     "metadata": {},
     "output_type": "execute_result"
    }
   ],
   "source": [
    "(train_data, train_labels), (test_data, test_labels) = reuters.load_data(\n",
    "    num_words=10000)\n",
    "\n",
    "train_data.shape"
   ],
   "metadata": {
    "collapsed": false,
    "ExecuteTime": {
     "end_time": "2023-06-26T17:52:49.366527500Z",
     "start_time": "2023-06-26T17:52:48.671949500Z"
    }
   }
  },
  {
   "cell_type": "code",
   "execution_count": 64,
   "outputs": [
    {
     "data": {
      "text/plain": "'? ? ? said as a result of its december acquisition of space co it expects earnings per share in 1987 of 1 15 to 1 30 dlrs per share up from 70 cts in 1986 the company said pretax net should rise to nine to 10 mln dlrs from six mln dlrs in 1986 and rental operation revenues to 19 to 22 mln dlrs from 12 5 mln dlrs it said cash flow per share this year should be 2 50 to three dlrs reuter 3'"
     },
     "execution_count": 64,
     "metadata": {},
     "output_type": "execute_result"
    }
   ],
   "source": [
    "word_index = reuters.get_word_index()\n",
    "reverse_word_index = dict([(value, key) for (key, value) in word_index.items()])\n",
    "decoded_newswire = ' '.join([reverse_word_index.get(i - 3, '?') for i in\n",
    "                             train_data[0]])\n",
    "decoded_newswire"
   ],
   "metadata": {
    "collapsed": false,
    "ExecuteTime": {
     "end_time": "2023-06-26T17:52:49.445994300Z",
     "start_time": "2023-06-26T17:52:49.376090100Z"
    }
   }
  },
  {
   "cell_type": "code",
   "execution_count": 65,
   "outputs": [
    {
     "data": {
      "text/plain": "array([[0., 1., 1., ..., 0., 0., 0.],\n       [0., 1., 1., ..., 0., 0., 0.],\n       [0., 1., 1., ..., 0., 0., 0.],\n       ...,\n       [0., 1., 1., ..., 0., 0., 0.],\n       [0., 1., 1., ..., 0., 0., 0.],\n       [0., 1., 1., ..., 0., 0., 0.]])"
     },
     "execution_count": 65,
     "metadata": {},
     "output_type": "execute_result"
    }
   ],
   "source": [
    "import numpy as np\n",
    "\n",
    "\n",
    "def vectorize_sequences(sequences, dimension=10000):\n",
    "    results = np.zeros((len(sequences), dimension))\n",
    "\n",
    "    for i, sequence in enumerate(sequences):\n",
    "        results[i, sequence] = 1.\n",
    "\n",
    "    return results\n",
    "\n",
    "\n",
    "x_train = vectorize_sequences(train_data)\n",
    "x_test = vectorize_sequences(test_data)\n",
    "x_train"
   ],
   "metadata": {
    "collapsed": false,
    "ExecuteTime": {
     "end_time": "2023-06-26T17:52:49.867504100Z",
     "start_time": "2023-06-26T17:52:49.453524Z"
    }
   }
  },
  {
   "cell_type": "code",
   "execution_count": 66,
   "outputs": [
    {
     "data": {
      "text/plain": "array([[0., 0., 0., ..., 0., 0., 0.],\n       [0., 0., 0., ..., 0., 0., 0.],\n       [0., 0., 0., ..., 0., 0., 0.],\n       ...,\n       [0., 0., 0., ..., 0., 0., 0.],\n       [0., 0., 0., ..., 0., 0., 0.],\n       [0., 0., 0., ..., 0., 0., 0.]])"
     },
     "execution_count": 66,
     "metadata": {},
     "output_type": "execute_result"
    }
   ],
   "source": [
    "def to_one_hot(labels, dimension=46):\n",
    "    results = np.zeros((len(labels), dimension))\n",
    "    for i, label in enumerate(labels):\n",
    "        results[i, label] = 1.\n",
    "\n",
    "    return results\n",
    "\n",
    "\n",
    "one_hot_train_labels = to_one_hot(train_labels)\n",
    "one_hot_test_labels = to_one_hot(test_labels)\n",
    "\n",
    "one_hot_train_labels"
   ],
   "metadata": {
    "collapsed": false,
    "ExecuteTime": {
     "end_time": "2023-06-26T17:52:49.938579800Z",
     "start_time": "2023-06-26T17:52:49.881625200Z"
    }
   }
  },
  {
   "cell_type": "code",
   "execution_count": 67,
   "outputs": [
    {
     "data": {
      "text/plain": "array([[0., 0., 0., ..., 0., 0., 0.],\n       [0., 0., 0., ..., 0., 0., 0.],\n       [0., 0., 0., ..., 0., 0., 0.],\n       ...,\n       [0., 0., 0., ..., 0., 0., 0.],\n       [0., 0., 0., ..., 0., 0., 0.],\n       [0., 0., 0., ..., 0., 0., 0.]], dtype=float32)"
     },
     "execution_count": 67,
     "metadata": {},
     "output_type": "execute_result"
    }
   ],
   "source": [
    "#the same code above can be done by using keras to_categorical\n",
    "from keras.utils.np_utils import to_categorical\n",
    "\n",
    "one_hot_train_labels = to_categorical(train_labels)\n",
    "one_hot_test_labels = to_categorical(test_labels)\n",
    "one_hot_train_labels"
   ],
   "metadata": {
    "collapsed": false,
    "ExecuteTime": {
     "end_time": "2023-06-26T17:52:49.940081300Z",
     "start_time": "2023-06-26T17:52:49.926300100Z"
    }
   }
  },
  {
   "cell_type": "code",
   "execution_count": 68,
   "outputs": [],
   "source": [
    "x_val = x_train[:999]\n",
    "partial_x_train = x_train[999:]\n",
    "y_val = one_hot_train_labels[:999]\n",
    "partial_y_train = one_hot_train_labels[999:]"
   ],
   "metadata": {
    "collapsed": false,
    "ExecuteTime": {
     "end_time": "2023-06-26T17:52:49.946102500Z",
     "start_time": "2023-06-26T17:52:49.937583400Z"
    }
   }
  },
  {
   "cell_type": "code",
   "execution_count": 69,
   "outputs": [
    {
     "name": "stdout",
     "output_type": "stream",
     "text": [
      "Epoch 1/20\n",
      "16/16 [==============================] - 1s 41ms/step - loss: 2.8175 - accuracy: 0.5039 - val_loss: 1.8563 - val_accuracy: 0.6316\n",
      "Epoch 2/20\n",
      "16/16 [==============================] - 0s 23ms/step - loss: 1.5468 - accuracy: 0.6823 - val_loss: 1.3845 - val_accuracy: 0.6857\n",
      "Epoch 3/20\n",
      "16/16 [==============================] - 0s 23ms/step - loss: 1.1773 - accuracy: 0.7388 - val_loss: 1.1996 - val_accuracy: 0.7327\n",
      "Epoch 4/20\n",
      "16/16 [==============================] - 0s 24ms/step - loss: 0.9686 - accuracy: 0.7855 - val_loss: 1.1023 - val_accuracy: 0.7467\n",
      "Epoch 5/20\n",
      "16/16 [==============================] - 0s 24ms/step - loss: 0.8083 - accuracy: 0.8220 - val_loss: 1.0455 - val_accuracy: 0.7678\n",
      "Epoch 6/20\n",
      "16/16 [==============================] - 0s 24ms/step - loss: 0.6768 - accuracy: 0.8521 - val_loss: 0.9692 - val_accuracy: 0.7988\n",
      "Epoch 7/20\n",
      "16/16 [==============================] - 0s 29ms/step - loss: 0.5675 - accuracy: 0.8772 - val_loss: 0.9296 - val_accuracy: 0.7978\n",
      "Epoch 8/20\n",
      "16/16 [==============================] - 0s 31ms/step - loss: 0.4782 - accuracy: 0.8973 - val_loss: 0.9237 - val_accuracy: 0.8048\n",
      "Epoch 9/20\n",
      "16/16 [==============================] - 0s 28ms/step - loss: 0.4089 - accuracy: 0.9108 - val_loss: 0.8840 - val_accuracy: 0.8138\n",
      "Epoch 10/20\n",
      "16/16 [==============================] - 0s 25ms/step - loss: 0.3454 - accuracy: 0.9245 - val_loss: 0.8750 - val_accuracy: 0.8058\n",
      "Epoch 11/20\n",
      "16/16 [==============================] - 0s 23ms/step - loss: 0.3008 - accuracy: 0.9312 - val_loss: 0.8681 - val_accuracy: 0.8108\n",
      "Epoch 12/20\n",
      "16/16 [==============================] - 0s 23ms/step - loss: 0.2603 - accuracy: 0.9401 - val_loss: 0.9128 - val_accuracy: 0.8148\n",
      "Epoch 13/20\n",
      "16/16 [==============================] - 0s 24ms/step - loss: 0.2335 - accuracy: 0.9450 - val_loss: 0.8848 - val_accuracy: 0.8168\n",
      "Epoch 14/20\n",
      "16/16 [==============================] - 0s 23ms/step - loss: 0.2106 - accuracy: 0.9484 - val_loss: 0.8934 - val_accuracy: 0.8148\n",
      "Epoch 15/20\n",
      "16/16 [==============================] - 0s 24ms/step - loss: 0.1939 - accuracy: 0.9504 - val_loss: 0.9121 - val_accuracy: 0.8058\n",
      "Epoch 16/20\n",
      "16/16 [==============================] - 0s 24ms/step - loss: 0.1723 - accuracy: 0.9543 - val_loss: 0.8954 - val_accuracy: 0.8128\n",
      "Epoch 17/20\n",
      "16/16 [==============================] - 0s 23ms/step - loss: 0.1633 - accuracy: 0.9540 - val_loss: 0.9331 - val_accuracy: 0.8088\n",
      "Epoch 18/20\n",
      "16/16 [==============================] - 0s 23ms/step - loss: 0.1547 - accuracy: 0.9534 - val_loss: 0.9188 - val_accuracy: 0.8128\n",
      "Epoch 19/20\n",
      "16/16 [==============================] - 0s 23ms/step - loss: 0.1441 - accuracy: 0.9555 - val_loss: 0.9846 - val_accuracy: 0.7968\n",
      "Epoch 20/20\n",
      "16/16 [==============================] - 0s 22ms/step - loss: 0.1398 - accuracy: 0.9565 - val_loss: 0.9619 - val_accuracy: 0.8088\n"
     ]
    }
   ],
   "source": [
    "from keras import models\n",
    "from keras import layers\n",
    "\n",
    "model = models.Sequential()\n",
    "model.add(layers.Dense(64, activation='relu', input_shape=(10000,)))\n",
    "model.add(layers.Dense(64, activation='relu'))\n",
    "model.add(layers.Dense(46, activation='softmax'))\n",
    "model.compile(optimizer='rmsprop',\n",
    "              loss='categorical_crossentropy',\n",
    "              metrics=['accuracy'])\n",
    "\n",
    "history = model.fit(partial_x_train,\n",
    "                    partial_y_train,\n",
    "                    epochs=20,\n",
    "                    batch_size=512,\n",
    "                    validation_data=(x_val, y_val))"
   ],
   "metadata": {
    "collapsed": false,
    "ExecuteTime": {
     "end_time": "2023-06-26T17:52:59.036810600Z",
     "start_time": "2023-06-26T17:52:49.956634100Z"
    }
   }
  },
  {
   "cell_type": "code",
   "execution_count": 70,
   "outputs": [
    {
     "name": "stdout",
     "output_type": "stream",
     "text": [
      "71/71 [==============================] - 0s 3ms/step - loss: 1.0562 - accuracy: 0.7956\n"
     ]
    }
   ],
   "source": [
    "results = model.evaluate(x_test, one_hot_test_labels)"
   ],
   "metadata": {
    "collapsed": false,
    "ExecuteTime": {
     "end_time": "2023-06-26T17:52:59.367137900Z",
     "start_time": "2023-06-26T17:52:59.040336600Z"
    }
   }
  },
  {
   "cell_type": "code",
   "execution_count": 71,
   "outputs": [
    {
     "data": {
      "text/plain": "<Figure size 640x480 with 1 Axes>",
      "image/png": "[encoded data removed]"
     },
     "metadata": {},
     "output_type": "display_data"
    }
   ],
   "source": [
    "import matplotlib.pyplot as plt\n",
    "\n",
    "loss = history.history['loss']\n",
    "val_loss = history.history['val_loss']\n",
    "epochs = range(1, len(loss) + 1)\n",
    "plt.plot(epochs, loss, 'bo', label='Training loss')\n",
    "plt.plot(epochs, val_loss, 'b', label='Validation loss')\n",
    "plt.title('Training and validation loss')\n",
    "plt.xlabel('Epochs')\n",
    "plt.ylabel('Loss')\n",
    "plt.legend()\n",
    "plt.show()"
   ],
   "metadata": {
    "collapsed": false,
    "ExecuteTime": {
     "end_time": "2023-06-26T17:52:59.621359800Z",
     "start_time": "2023-06-26T17:52:59.372648700Z"
    }
   }
  },
  {
   "cell_type": "code",
   "execution_count": 78,
   "outputs": [
    {
     "name": "stdout",
     "output_type": "stream",
     "text": [
      "Epoch 1/20\n",
      "16/16 [==============================] - 2s 45ms/step - loss: 3.6542 - accuracy: 0.0333 - val_loss: 3.4328 - val_accuracy: 0.0611\n",
      "Epoch 2/20\n",
      "16/16 [==============================] - 1s 37ms/step - loss: 3.2470 - accuracy: 0.0985 - val_loss: 3.0739 - val_accuracy: 0.1221\n",
      "Epoch 3/20\n",
      "16/16 [==============================] - 0s 25ms/step - loss: 2.8683 - accuracy: 0.2522 - val_loss: 2.7125 - val_accuracy: 0.3103\n",
      "Epoch 4/20\n",
      "16/16 [==============================] - 0s 24ms/step - loss: 2.4705 - accuracy: 0.4020 - val_loss: 2.3282 - val_accuracy: 0.5976\n",
      "Epoch 5/20\n",
      "16/16 [==============================] - 0s 25ms/step - loss: 2.0621 - accuracy: 0.6310 - val_loss: 1.9517 - val_accuracy: 0.6426\n",
      "Epoch 6/20\n",
      "16/16 [==============================] - 0s 24ms/step - loss: 1.7104 - accuracy: 0.6523 - val_loss: 1.6894 - val_accuracy: 0.6517\n",
      "Epoch 7/20\n",
      "16/16 [==============================] - 0s 24ms/step - loss: 1.4841 - accuracy: 0.6662 - val_loss: 1.5570 - val_accuracy: 0.6597\n",
      "Epoch 8/20\n",
      "16/16 [==============================] - 0s 24ms/step - loss: 1.3494 - accuracy: 0.6812 - val_loss: 1.4688 - val_accuracy: 0.6657\n",
      "Epoch 9/20\n",
      "16/16 [==============================] - 0s 24ms/step - loss: 1.2598 - accuracy: 0.6956 - val_loss: 1.4304 - val_accuracy: 0.6807\n",
      "Epoch 10/20\n",
      "16/16 [==============================] - 0s 24ms/step - loss: 1.1926 - accuracy: 0.7110 - val_loss: 1.3984 - val_accuracy: 0.6777\n",
      "Epoch 11/20\n",
      "16/16 [==============================] - 0s 24ms/step - loss: 1.1381 - accuracy: 0.7240 - val_loss: 1.3767 - val_accuracy: 0.6807\n",
      "Epoch 12/20\n",
      "16/16 [==============================] - 0s 24ms/step - loss: 1.0874 - accuracy: 0.7364 - val_loss: 1.3532 - val_accuracy: 0.6797\n",
      "Epoch 13/20\n",
      "16/16 [==============================] - 0s 24ms/step - loss: 1.0451 - accuracy: 0.7462 - val_loss: 1.3429 - val_accuracy: 0.6957\n",
      "Epoch 14/20\n",
      "16/16 [==============================] - 0s 24ms/step - loss: 1.0029 - accuracy: 0.7536 - val_loss: 1.3491 - val_accuracy: 0.6887\n",
      "Epoch 15/20\n",
      "16/16 [==============================] - 0s 24ms/step - loss: 0.9669 - accuracy: 0.7632 - val_loss: 1.3449 - val_accuracy: 0.7047\n",
      "Epoch 16/20\n",
      "16/16 [==============================] - 0s 27ms/step - loss: 0.9337 - accuracy: 0.7674 - val_loss: 1.3206 - val_accuracy: 0.7007\n",
      "Epoch 17/20\n",
      "16/16 [==============================] - 0s 25ms/step - loss: 0.9002 - accuracy: 0.7763 - val_loss: 1.3149 - val_accuracy: 0.7087\n",
      "Epoch 18/20\n",
      "16/16 [==============================] - 0s 26ms/step - loss: 0.8744 - accuracy: 0.7802 - val_loss: 1.3233 - val_accuracy: 0.7047\n",
      "Epoch 19/20\n",
      "16/16 [==============================] - 0s 26ms/step - loss: 0.8448 - accuracy: 0.7840 - val_loss: 1.3085 - val_accuracy: 0.7067\n",
      "Epoch 20/20\n",
      "16/16 [==============================] - 0s 25ms/step - loss: 0.8185 - accuracy: 0.7879 - val_loss: 1.3159 - val_accuracy: 0.7127\n",
      "71/71 [==============================] - 0s 3ms/step - loss: 1.4102 - accuracy: 0.6950\n"
     ]
    }
   ],
   "source": [
    "model = models.Sequential()\n",
    "model.add(layers.Dense(64, activation='relu', input_shape=(10000,)))\n",
    "model.add(layers.Dense(4, activation='relu'))\n",
    "model.add(layers.Dense(46, activation='softmax'))\n",
    "model.compile(optimizer='rmsprop',\n",
    "              loss='categorical_crossentropy',\n",
    "              metrics=['accuracy'])\n",
    "model.fit(partial_x_train,\n",
    "          partial_y_train,\n",
    "          epochs=20,\n",
    "          batch_size=512,\n",
    "          validation_data=(x_val, y_val))\n",
    "results = model.evaluate(x_test, one_hot_test_labels)"
   ],
   "metadata": {
    "collapsed": false
   }
  },
  {
   "cell_type": "code",
   "execution_count": 73,
   "outputs": [
    {
     "name": "stdout",
     "output_type": "stream",
     "text": [
      "71/71 [==============================] - 0s 2ms/step\n"
     ]
    },
    {
     "data": {
      "text/plain": "(46,)"
     },
     "execution_count": 73,
     "metadata": {},
     "output_type": "execute_result"
    }
   ],
   "source": [
    "predictions = model.predict(x_test)\n",
    "predictions[0].shape"
   ],
   "metadata": {
    "collapsed": false
   }
  },
  {
   "cell_type": "code",
   "execution_count": 74,
   "outputs": [
    {
     "data": {
      "text/plain": "1.0000002"
     },
     "execution_count": 74,
     "metadata": {},
     "output_type": "execute_result"
    }
   ],
   "source": [
    "np.sum(predictions[0])"
   ],
   "metadata": {
    "collapsed": false,
    "ExecuteTime": {
     "end_time": "2023-06-26T17:53:05.319039400Z",
     "start_time": "2023-06-26T17:53:05.307936700Z"
    }
   }
  },
  {
   "cell_type": "code",
   "execution_count": 75,
   "outputs": [
    {
     "data": {
      "text/plain": "3"
     },
     "execution_count": 75,
     "metadata": {},
     "output_type": "execute_result"
    }
   ],
   "source": [
    "np.argmax(predictions[0])"
   ],
   "metadata": {
    "collapsed": false,
    "ExecuteTime": {
     "end_time": "2023-06-26T17:53:05.378703Z",
     "start_time": "2023-06-26T17:53:05.324560900Z"
    }
   }
  },
  {
   "cell_type": "code",
   "execution_count": 76,
   "outputs": [
    {
     "data": {
      "text/plain": "<Figure size 640x480 with 2 Axes>",
      "image/png": "[encoded data removed]"
     },
     "metadata": {},
     "output_type": "display_data"
    }
   ],
   "source": [
    "# graphic representation of the prediction\n",
    "import matplotlib.pyplot as plt\n",
    "import seaborn as sns\n",
    "sns.heatmap(predictions[0].reshape(1,46), cmap='viridis')\n",
    "plt.show()\n"
   ],
   "metadata": {
    "collapsed": false,
    "ExecuteTime": {
     "end_time": "2023-06-26T17:53:05.751571900Z",
     "start_time": "2023-06-26T17:53:05.340131700Z"
    }
   }
  },
  {
   "cell_type": "code",
   "execution_count": 76,
   "outputs": [],
   "source": [],
   "metadata": {
    "collapsed": false,
    "ExecuteTime": {
     "end_time": "2023-06-26T17:53:05.762917Z",
     "start_time": "2023-06-26T17:53:05.752583300Z"
    }
   }
  }
 ],
 "metadata": {
  "kernelspec": {
   "display_name": "Python 3",
   "language": "python",
   "name": "python3"
  },
  "language_info": {
   "codemirror_mode": {
    "name": "ipython",
    "version": 2
   },
   "file_extension": ".py",
   "mimetype": "text/x-python",
   "name": "python",
   "nbconvert_exporter": "python",
   "pygments_lexer": "ipython2",
   "version": "2.7.6"
  }
 },
 "nbformat": 4,
 "nbformat_minor": 0
}
